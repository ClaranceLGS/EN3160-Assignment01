{
 "cells": [
  {
   "cell_type": "markdown",
   "metadata": {},
   "source": [
    "<h1>Q1</h1>"
   ]
  },
  {
   "cell_type": "code",
   "execution_count": 3,
   "metadata": {},
   "outputs": [],
   "source": [
    "import numpy as np\n",
    "import matplotlib.pyplot as plt\n",
    "import cv2 as cv\n",
    "# Load the image\n",
    "image = cv.imread('Images/the_berry_farms_sunflower_field.jpeg', cv.IMREAD_REDUCED_COLOR_4)\n"
   ]
  },
  {
   "cell_type": "code",
   "execution_count": null,
   "metadata": {},
   "outputs": [],
   "source": []
  },
  {
   "cell_type": "markdown",
   "metadata": {},
   "source": [
    "<h1>Q3</h1>"
   ]
  },
  {
   "cell_type": "code",
   "execution_count": 21,
   "metadata": {},
   "outputs": [],
   "source": [
    "img_1 = cv.imread('Images/Wadham.jpg', cv.IMREAD_COLOR)\n",
    "img_2 = cv.imread('Images/British.jpg', cv.IMREAD_COLOR)\n",
    "\n",
    "# Create a list to store the user selected points\n",
    "points_img_1 = []\n",
    "\n",
    "# Mouse Callback function \n",
    "def click_event(event, x, y, flags, param):\n",
    "    global points_img_1\n",
    "\n",
    "    if event == cv.EVENT_LBUTTONDOWN: # If the left mouse button is clicked, record the point\n",
    "        points_img_1.append((x, y))\n",
    "        cv.circle(img_1, (x, y), 5, (0, 255, 0), -1)\n",
    "        cv.imshow(\"Image 1\", img_1)\n",
    "\n",
    "        if len(points_img_1) == 4: # If four points are selected, proceed with further processing\n",
    "            compute_homography()\n",
    "\n",
    "# Function to compute homography matrix and perform superimposition\n",
    "def compute_homography():\n",
    "    global points_img_1\n",
    "\n",
    "    # Define the corresponding points in img_2 with the same aspect ratio as image1)\n",
    "    points_img_2 = np.array([[0, 0], [img_2.shape[1], 0], [img_2.shape[1], img_2.shape[0]], [0, img_2.shape[0]]], dtype=np.float32)\n",
    "\n",
    "    # Compute the homography matrix\n",
    "    homography_matrix, _ = cv.findHomography(points_img_2, np.array(points_img_1, dtype=np.float32))\n",
    "\n",
    "    # Warp img_2 to match the perspective of img_1\n",
    "    warped_img_2 = cv.warpPerspective(img_2, homography_matrix, (img_1.shape[1], img_1.shape[0]))\n",
    "\n",
    "    # Blend the warped img_2 onto img_1\n",
    "    alpha = 0.4 # Blending parameter\n",
    "    blended_img = cv.addWeighted(img_1, 1 - alpha, warped_img_2, alpha, 0)\n",
    "\n",
    "    # Display the resulting image\n",
    "    cv.imshow(\"Superimposed Image\", blended_img)\n",
    "    cv.imwrite(\"Images/Superimposed.jpg\", blended_img)\n",
    "    cv.waitKey(0)\n",
    "    cv.destroyAllWindows()\n",
    "\n",
    "# Show the image and set the callback function for mouse events\n",
    "cv.imshow(\"Image 1\", img_1)\n",
    "cv.setMouseCallback(\"Image 1\", click_event)\n",
    "\n",
    "cv.waitKey(0)\n",
    "cv.destroyAllWindows()\n"
   ]
  }
 ],
 "metadata": {
  "kernelspec": {
   "display_name": "Python 3",
   "language": "python",
   "name": "python3"
  },
  "language_info": {
   "codemirror_mode": {
    "name": "ipython",
    "version": 3
   },
   "file_extension": ".py",
   "mimetype": "text/x-python",
   "name": "python",
   "nbconvert_exporter": "python",
   "pygments_lexer": "ipython3",
   "version": "3.11.4"
  },
  "orig_nbformat": 4
 },
 "nbformat": 4,
 "nbformat_minor": 2
}
